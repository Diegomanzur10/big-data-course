{
 "cells": [
  {
   "cell_type": "code",
   "execution_count": 72,
   "id": "fd662c39-5fcc-4ad1-8a5e-76232e25cb37",
   "metadata": {},
   "outputs": [
    {
     "name": "stdout",
     "output_type": "stream",
     "text": [
      "\u001b[33mWARNING: Ignoring invalid distribution -andas (/opt/conda/lib/python3.10/site-packages)\u001b[0m\u001b[33m\n",
      "\u001b[0m\u001b[33mWARNING: Ignoring invalid distribution -andas (/opt/conda/lib/python3.10/site-packages)\u001b[0m\u001b[33m\n",
      "\u001b[0mRequirement already satisfied: pandas in /opt/conda/lib/python3.10/site-packages (1.4.3)\n",
      "Requirement already satisfied: xlrd in /opt/conda/lib/python3.10/site-packages (2.0.1)\n",
      "Requirement already satisfied: ipython-sql in /opt/conda/lib/python3.10/site-packages (0.4.1)\n",
      "Requirement already satisfied: sqlalchemy in /opt/conda/lib/python3.10/site-packages (1.4.37)\n",
      "Requirement already satisfied: openpyxl in /opt/conda/lib/python3.10/site-packages (3.0.10)\n",
      "Requirement already satisfied: numpy>=1.21.0 in /opt/conda/lib/python3.10/site-packages (from pandas) (1.21.6)\n",
      "Requirement already satisfied: python-dateutil>=2.8.1 in /opt/conda/lib/python3.10/site-packages (from pandas) (2.8.2)\n",
      "Requirement already satisfied: pytz>=2020.1 in /opt/conda/lib/python3.10/site-packages (from pandas) (2022.1)\n",
      "Requirement already satisfied: sqlparse in /opt/conda/lib/python3.10/site-packages (from ipython-sql) (0.4.2)\n",
      "Requirement already satisfied: prettytable<1 in /opt/conda/lib/python3.10/site-packages (from ipython-sql) (0.7.2)\n",
      "Requirement already satisfied: ipython-genutils>=0.1.0 in /opt/conda/lib/python3.10/site-packages (from ipython-sql) (0.2.0)\n",
      "Requirement already satisfied: ipython>=1.0 in /opt/conda/lib/python3.10/site-packages (from ipython-sql) (8.4.0)\n",
      "Requirement already satisfied: six in /opt/conda/lib/python3.10/site-packages (from ipython-sql) (1.12.0)\n",
      "Requirement already satisfied: greenlet!=0.4.17 in /opt/conda/lib/python3.10/site-packages (from sqlalchemy) (1.1.2)\n",
      "Requirement already satisfied: et-xmlfile in /opt/conda/lib/python3.10/site-packages (from openpyxl) (1.1.0)\n",
      "Requirement already satisfied: pygments>=2.4.0 in /opt/conda/lib/python3.10/site-packages (from ipython>=1.0->ipython-sql) (2.12.0)\n",
      "Requirement already satisfied: setuptools>=18.5 in /opt/conda/lib/python3.10/site-packages (from ipython>=1.0->ipython-sql) (62.3.4)\n",
      "Requirement already satisfied: pexpect>4.3 in /opt/conda/lib/python3.10/site-packages (from ipython>=1.0->ipython-sql) (4.8.0)\n",
      "Requirement already satisfied: traitlets>=5 in /opt/conda/lib/python3.10/site-packages (from ipython>=1.0->ipython-sql) (5.2.2.post1)\n",
      "Requirement already satisfied: pickleshare in /opt/conda/lib/python3.10/site-packages (from ipython>=1.0->ipython-sql) (0.7.5)\n",
      "Requirement already satisfied: backcall in /opt/conda/lib/python3.10/site-packages (from ipython>=1.0->ipython-sql) (0.2.0)\n",
      "Requirement already satisfied: decorator in /opt/conda/lib/python3.10/site-packages (from ipython>=1.0->ipython-sql) (5.1.1)\n",
      "Requirement already satisfied: prompt-toolkit!=3.0.0,!=3.0.1,<3.1.0,>=2.0.0 in /opt/conda/lib/python3.10/site-packages (from ipython>=1.0->ipython-sql) (3.0.29)\n",
      "Requirement already satisfied: stack-data in /opt/conda/lib/python3.10/site-packages (from ipython>=1.0->ipython-sql) (0.2.0)\n",
      "Requirement already satisfied: matplotlib-inline in /opt/conda/lib/python3.10/site-packages (from ipython>=1.0->ipython-sql) (0.1.3)\n",
      "Requirement already satisfied: jedi>=0.16 in /opt/conda/lib/python3.10/site-packages (from ipython>=1.0->ipython-sql) (0.18.1)\n",
      "Requirement already satisfied: parso<0.9.0,>=0.8.0 in /opt/conda/lib/python3.10/site-packages (from jedi>=0.16->ipython>=1.0->ipython-sql) (0.8.3)\n",
      "Requirement already satisfied: ptyprocess>=0.5 in /opt/conda/lib/python3.10/site-packages (from pexpect>4.3->ipython>=1.0->ipython-sql) (0.7.0)\n",
      "Requirement already satisfied: wcwidth in /opt/conda/lib/python3.10/site-packages (from prompt-toolkit!=3.0.0,!=3.0.1,<3.1.0,>=2.0.0->ipython>=1.0->ipython-sql) (0.2.5)\n",
      "Requirement already satisfied: pure-eval in /opt/conda/lib/python3.10/site-packages (from stack-data->ipython>=1.0->ipython-sql) (0.2.2)\n",
      "Requirement already satisfied: executing in /opt/conda/lib/python3.10/site-packages (from stack-data->ipython>=1.0->ipython-sql) (0.8.3)\n",
      "Requirement already satisfied: asttokens in /opt/conda/lib/python3.10/site-packages (from stack-data->ipython>=1.0->ipython-sql) (2.0.5)\n",
      "\u001b[33mWARNING: Ignoring invalid distribution -andas (/opt/conda/lib/python3.10/site-packages)\u001b[0m\u001b[33m\n",
      "\u001b[0m\u001b[33mWARNING: Ignoring invalid distribution -andas (/opt/conda/lib/python3.10/site-packages)\u001b[0m\u001b[33m\n",
      "\u001b[0m\u001b[33mWARNING: Ignoring invalid distribution -andas (/opt/conda/lib/python3.10/site-packages)\u001b[0m\u001b[33m\n",
      "\u001b[0m\u001b[33mWARNING: Ignoring invalid distribution -andas (/opt/conda/lib/python3.10/site-packages)\u001b[0m\u001b[33m\n",
      "\u001b[0mNote: you may need to restart the kernel to use updated packages.\n"
     ]
    }
   ],
   "source": [
    "pip install pandas xlrd ipython-sql sqlalchemy openpyxl"
   ]
  },
  {
   "cell_type": "code",
   "execution_count": 93,
   "id": "ddb32f3b-e433-4335-97ed-d3b6c36dcafa",
   "metadata": {},
   "outputs": [],
   "source": [
    "import pandas as pd\n",
    "from datetime import datetime"
   ]
  },
  {
   "cell_type": "code",
   "execution_count": null,
   "id": "2eb08c0d-de23-49ed-be86-ea8f097c2ede",
   "metadata": {},
   "outputs": [
    {
     "data": {
      "text/html": [
       "<div>\n",
       "<style scoped>\n",
       "    .dataframe tbody tr th:only-of-type {\n",
       "        vertical-align: middle;\n",
       "    }\n",
       "\n",
       "    .dataframe tbody tr th {\n",
       "        vertical-align: top;\n",
       "    }\n",
       "\n",
       "    .dataframe thead th {\n",
       "        text-align: right;\n",
       "    }\n",
       "</style>\n",
       "<table border=\"1\" class=\"dataframe\">\n",
       "  <thead>\n",
       "    <tr style=\"text-align: right;\">\n",
       "      <th></th>\n",
       "      <th>cust_id</th>\n",
       "      <th>first_name</th>\n",
       "      <th>last_name</th>\n",
       "      <th>email</th>\n",
       "      <th>phone</th>\n",
       "      <th>primary_pincode</th>\n",
       "      <th>gender</th>\n",
       "      <th>dob</th>\n",
       "      <th>joining_date</th>\n",
       "    </tr>\n",
       "  </thead>\n",
       "  <tbody>\n",
       "    <tr>\n",
       "      <th>0</th>\n",
       "      <td>10000001</td>\n",
       "      <td>Rahul</td>\n",
       "      <td>Gupta</td>\n",
       "      <td>rahul.gupta@gmail.com</td>\n",
       "      <td>8960722319</td>\n",
       "      <td>110001</td>\n",
       "      <td>male</td>\n",
       "      <td>02-12-1977</td>\n",
       "      <td>19-02-2016</td>\n",
       "    </tr>\n",
       "    <tr>\n",
       "      <th>1</th>\n",
       "      <td>10000002</td>\n",
       "      <td>Abhinav</td>\n",
       "      <td>Sharma</td>\n",
       "      <td>abhinav.sharma@gmail.com</td>\n",
       "      <td>8857852863</td>\n",
       "      <td>400001</td>\n",
       "      <td>male</td>\n",
       "      <td>20-09-1995</td>\n",
       "      <td>01-10-2016</td>\n",
       "    </tr>\n",
       "    <tr>\n",
       "      <th>2</th>\n",
       "      <td>10000003</td>\n",
       "      <td>Anubhav</td>\n",
       "      <td>Patel</td>\n",
       "      <td>anubhav.patel@gmail.com</td>\n",
       "      <td>8492146048</td>\n",
       "      <td>560001</td>\n",
       "      <td>male</td>\n",
       "      <td>26-12-1986</td>\n",
       "      <td>16-08-2018</td>\n",
       "    </tr>\n",
       "    <tr>\n",
       "      <th>3</th>\n",
       "      <td>10000004</td>\n",
       "      <td>Neha</td>\n",
       "      <td>Verma</td>\n",
       "      <td>neha.verma@gmail.com</td>\n",
       "      <td>8631861914</td>\n",
       "      <td>600001</td>\n",
       "      <td>female</td>\n",
       "      <td>20-01-2002</td>\n",
       "      <td>28-07-2009</td>\n",
       "    </tr>\n",
       "    <tr>\n",
       "      <th>4</th>\n",
       "      <td>10000005</td>\n",
       "      <td>John</td>\n",
       "      <td>Bernard</td>\n",
       "      <td>john.bernard@gmail.com</td>\n",
       "      <td>8215391844</td>\n",
       "      <td>500001</td>\n",
       "      <td>male</td>\n",
       "      <td>NaN</td>\n",
       "      <td>05-03-2017</td>\n",
       "    </tr>\n",
       "  </tbody>\n",
       "</table>\n",
       "</div>"
      ],
      "text/plain": [
       "    cust_id first_name last_name                     email       phone  \\\n",
       "0  10000001      Rahul     Gupta     rahul.gupta@gmail.com  8960722319   \n",
       "1  10000002    Abhinav    Sharma  abhinav.sharma@gmail.com  8857852863   \n",
       "2  10000003    Anubhav     Patel   anubhav.patel@gmail.com  8492146048   \n",
       "3  10000004       Neha     Verma      neha.verma@gmail.com  8631861914   \n",
       "4  10000005       John   Bernard    john.bernard@gmail.com  8215391844   \n",
       "\n",
       "   primary_pincode  gender         dob joining_date  \n",
       "0           110001    male  02-12-1977   19-02-2016  \n",
       "1           400001    male  20-09-1995   01-10-2016  \n",
       "2           560001    male  26-12-1986   16-08-2018  \n",
       "3           600001  female  20-01-2002   28-07-2009  \n",
       "4           500001    male         NaN   05-03-2017  "
      ]
     },
     "execution_count": 74,
     "metadata": {},
     "output_type": "execute_result"
    }
   ],
   "source": [
    "#Importing customer dataset\n",
    "customer_dim = pd.read_excel(\"data/sales_database.xlsx\", \n",
    "                             sheet_name=\"customer_dim\")\n",
    "customer_dim.head()"
   ]
  },
  {
   "cell_type": "code",
   "execution_count": null,
   "id": "85aa6d5b-2839-4b82-8df0-a0b9af50aae1",
   "metadata": {},
   "outputs": [
    {
     "data": {
      "text/html": [
       "<div>\n",
       "<style scoped>\n",
       "    .dataframe tbody tr th:only-of-type {\n",
       "        vertical-align: middle;\n",
       "    }\n",
       "\n",
       "    .dataframe tbody tr th {\n",
       "        vertical-align: top;\n",
       "    }\n",
       "\n",
       "    .dataframe thead th {\n",
       "        text-align: right;\n",
       "    }\n",
       "</style>\n",
       "<table border=\"1\" class=\"dataframe\">\n",
       "  <thead>\n",
       "    <tr style=\"text-align: right;\">\n",
       "      <th></th>\n",
       "      <th>product_id</th>\n",
       "      <th>product_name</th>\n",
       "      <th>brand</th>\n",
       "      <th>category</th>\n",
       "      <th>procurement_cost_per_unit</th>\n",
       "      <th>mrp</th>\n",
       "    </tr>\n",
       "  </thead>\n",
       "  <tbody>\n",
       "    <tr>\n",
       "      <th>0</th>\n",
       "      <td>12345</td>\n",
       "      <td>HP XYZ Mouse</td>\n",
       "      <td>HP</td>\n",
       "      <td>mouse</td>\n",
       "      <td>650</td>\n",
       "      <td>1500</td>\n",
       "    </tr>\n",
       "    <tr>\n",
       "      <th>1</th>\n",
       "      <td>12346</td>\n",
       "      <td>HP 241H</td>\n",
       "      <td>HP</td>\n",
       "      <td>laptop</td>\n",
       "      <td>45000</td>\n",
       "      <td>80000</td>\n",
       "    </tr>\n",
       "    <tr>\n",
       "      <th>2</th>\n",
       "      <td>12347</td>\n",
       "      <td>HP 8GB Pendrive</td>\n",
       "      <td>HP</td>\n",
       "      <td>pendrive</td>\n",
       "      <td>350</td>\n",
       "      <td>800</td>\n",
       "    </tr>\n",
       "    <tr>\n",
       "      <th>3</th>\n",
       "      <td>12348</td>\n",
       "      <td>Dell ABC Mouse</td>\n",
       "      <td>Dell</td>\n",
       "      <td>mouse</td>\n",
       "      <td>350</td>\n",
       "      <td>1100</td>\n",
       "    </tr>\n",
       "    <tr>\n",
       "      <th>4</th>\n",
       "      <td>12349</td>\n",
       "      <td>Dell AX420</td>\n",
       "      <td>Dell</td>\n",
       "      <td>laptop</td>\n",
       "      <td>30000</td>\n",
       "      <td>75000</td>\n",
       "    </tr>\n",
       "  </tbody>\n",
       "</table>\n",
       "</div>"
      ],
      "text/plain": [
       "   product_id     product_name brand  category  procurement_cost_per_unit  \\\n",
       "0       12345     HP XYZ Mouse    HP     mouse                        650   \n",
       "1       12346          HP 241H    HP    laptop                      45000   \n",
       "2       12347  HP 8GB Pendrive    HP  pendrive                        350   \n",
       "3       12348   Dell ABC Mouse  Dell     mouse                        350   \n",
       "4       12349       Dell AX420  Dell    laptop                      30000   \n",
       "\n",
       "     mrp  \n",
       "0   1500  \n",
       "1  80000  \n",
       "2    800  \n",
       "3   1100  \n",
       "4  75000  "
      ]
     },
     "execution_count": 75,
     "metadata": {},
     "output_type": "execute_result"
    }
   ],
   "source": [
    "#Importing product dataset\n",
    "product_dim = pd.read_excel(\"data/sales_database.xlsx\", \n",
    "                            sheet_name=\"product_dim\")\n",
    "product_dim.head()"
   ]
  },
  {
   "cell_type": "code",
   "execution_count": null,
   "id": "d0dd88eb-7cf1-4461-93ed-d17baf72a3a7",
   "metadata": {},
   "outputs": [
    {
     "data": {
      "text/html": [
       "<div>\n",
       "<style scoped>\n",
       "    .dataframe tbody tr th:only-of-type {\n",
       "        vertical-align: middle;\n",
       "    }\n",
       "\n",
       "    .dataframe tbody tr th {\n",
       "        vertical-align: top;\n",
       "    }\n",
       "\n",
       "    .dataframe thead th {\n",
       "        text-align: right;\n",
       "    }\n",
       "</style>\n",
       "<table border=\"1\" class=\"dataframe\">\n",
       "  <thead>\n",
       "    <tr style=\"text-align: right;\">\n",
       "      <th></th>\n",
       "      <th>delivery_person_id</th>\n",
       "      <th>name</th>\n",
       "      <th>joining_date</th>\n",
       "      <th>pincode</th>\n",
       "    </tr>\n",
       "  </thead>\n",
       "  <tbody>\n",
       "    <tr>\n",
       "      <th>0</th>\n",
       "      <td>1000008</td>\n",
       "      <td>Indranoor Singh</td>\n",
       "      <td>08-03-2007</td>\n",
       "      <td>110001</td>\n",
       "    </tr>\n",
       "    <tr>\n",
       "      <th>1</th>\n",
       "      <td>1000002</td>\n",
       "      <td>Simon Williams</td>\n",
       "      <td>23-02-2007</td>\n",
       "      <td>400001</td>\n",
       "    </tr>\n",
       "    <tr>\n",
       "      <th>2</th>\n",
       "      <td>1000004</td>\n",
       "      <td>Anubhav Tyagi</td>\n",
       "      <td>16-11-2007</td>\n",
       "      <td>400001</td>\n",
       "    </tr>\n",
       "    <tr>\n",
       "      <th>3</th>\n",
       "      <td>1000006</td>\n",
       "      <td>Aviral Vats</td>\n",
       "      <td>16-11-2007</td>\n",
       "      <td>400001</td>\n",
       "    </tr>\n",
       "    <tr>\n",
       "      <th>4</th>\n",
       "      <td>1000009</td>\n",
       "      <td>Rocky Tiwari</td>\n",
       "      <td>16-11-2007</td>\n",
       "      <td>400001</td>\n",
       "    </tr>\n",
       "  </tbody>\n",
       "</table>\n",
       "</div>"
      ],
      "text/plain": [
       "   delivery_person_id             name joining_date  pincode\n",
       "0             1000008  Indranoor Singh   08-03-2007   110001\n",
       "1             1000002   Simon Williams   23-02-2007   400001\n",
       "2             1000004    Anubhav Tyagi   16-11-2007   400001\n",
       "3             1000006      Aviral Vats   16-11-2007   400001\n",
       "4             1000009     Rocky Tiwari   16-11-2007   400001"
      ]
     },
     "execution_count": 76,
     "metadata": {},
     "output_type": "execute_result"
    }
   ],
   "source": [
    "#Importing delivery person dataset\n",
    "delivery_person_dim = pd.read_excel(\"data/sales_database.xlsx\",\n",
    "                                    sheet_name=\"delivery_person_dim\")\n",
    "delivery_person_dim.head()"
   ]
  },
  {
   "cell_type": "code",
   "execution_count": null,
   "id": "f968a669-a683-4273-aaf2-b9379a1097c5",
   "metadata": {},
   "outputs": [
    {
     "data": {
      "text/html": [
       "<div>\n",
       "<style scoped>\n",
       "    .dataframe tbody tr th:only-of-type {\n",
       "        vertical-align: middle;\n",
       "    }\n",
       "\n",
       "    .dataframe tbody tr th {\n",
       "        vertical-align: top;\n",
       "    }\n",
       "\n",
       "    .dataframe thead th {\n",
       "        text-align: right;\n",
       "    }\n",
       "</style>\n",
       "<table border=\"1\" class=\"dataframe\">\n",
       "  <thead>\n",
       "    <tr style=\"text-align: right;\">\n",
       "      <th></th>\n",
       "      <th>pincode</th>\n",
       "      <th>city</th>\n",
       "      <th>state</th>\n",
       "    </tr>\n",
       "  </thead>\n",
       "  <tbody>\n",
       "    <tr>\n",
       "      <th>0</th>\n",
       "      <td>110001</td>\n",
       "      <td>New Delhi</td>\n",
       "      <td>New Delhi</td>\n",
       "    </tr>\n",
       "    <tr>\n",
       "      <th>1</th>\n",
       "      <td>400001</td>\n",
       "      <td>Mumbai</td>\n",
       "      <td>Maharastra</td>\n",
       "    </tr>\n",
       "    <tr>\n",
       "      <th>2</th>\n",
       "      <td>560001</td>\n",
       "      <td>Bangalore</td>\n",
       "      <td>Karnataka</td>\n",
       "    </tr>\n",
       "    <tr>\n",
       "      <th>3</th>\n",
       "      <td>600001</td>\n",
       "      <td>Chennai</td>\n",
       "      <td>Tamil Nadu</td>\n",
       "    </tr>\n",
       "    <tr>\n",
       "      <th>4</th>\n",
       "      <td>500001</td>\n",
       "      <td>Hyderabad</td>\n",
       "      <td>Telangana</td>\n",
       "    </tr>\n",
       "  </tbody>\n",
       "</table>\n",
       "</div>"
      ],
      "text/plain": [
       "   pincode       city       state\n",
       "0   110001  New Delhi   New Delhi\n",
       "1   400001     Mumbai  Maharastra\n",
       "2   560001  Bangalore   Karnataka\n",
       "3   600001    Chennai  Tamil Nadu\n",
       "4   500001  Hyderabad   Telangana"
      ]
     },
     "execution_count": 77,
     "metadata": {},
     "output_type": "execute_result"
    }
   ],
   "source": [
    "#Importing pincode dataset\n",
    "pincode_dim = pd.read_excel(\"data/sales_database.xlsx\", \n",
    "                            sheet_name=\"pincode_dim\")\n",
    "pincode_dim.head()"
   ]
  },
  {
   "cell_type": "code",
   "execution_count": null,
   "id": "a9644777-92ad-4d8d-8410-9998cc975fec",
   "metadata": {},
   "outputs": [
    {
     "data": {
      "text/html": [
       "<div>\n",
       "<style scoped>\n",
       "    .dataframe tbody tr th:only-of-type {\n",
       "        vertical-align: middle;\n",
       "    }\n",
       "\n",
       "    .dataframe tbody tr th {\n",
       "        vertical-align: top;\n",
       "    }\n",
       "\n",
       "    .dataframe thead th {\n",
       "        text-align: right;\n",
       "    }\n",
       "</style>\n",
       "<table border=\"1\" class=\"dataframe\">\n",
       "  <thead>\n",
       "    <tr style=\"text-align: right;\">\n",
       "      <th></th>\n",
       "      <th>order_id</th>\n",
       "      <th>order_type</th>\n",
       "      <th>cust_id</th>\n",
       "      <th>order_date</th>\n",
       "      <th>delivery_date</th>\n",
       "      <th>tot_units</th>\n",
       "      <th>displayed_selling_price_per_unit</th>\n",
       "      <th>total_amount_paid</th>\n",
       "      <th>product_id</th>\n",
       "      <th>delivery_person_id</th>\n",
       "      <th>payment_type</th>\n",
       "      <th>delivery_pincode</th>\n",
       "    </tr>\n",
       "  </thead>\n",
       "  <tbody>\n",
       "    <tr>\n",
       "      <th>0</th>\n",
       "      <td>10000000001</td>\n",
       "      <td>buy</td>\n",
       "      <td>10000009</td>\n",
       "      <td>01-01-2020</td>\n",
       "      <td>03-01-2020</td>\n",
       "      <td>2</td>\n",
       "      <td>73500</td>\n",
       "      <td>138180</td>\n",
       "      <td>12349</td>\n",
       "      <td>1000003</td>\n",
       "      <td>cash</td>\n",
       "      <td>500001</td>\n",
       "    </tr>\n",
       "    <tr>\n",
       "      <th>1</th>\n",
       "      <td>10000000002</td>\n",
       "      <td>buy</td>\n",
       "      <td>10000004</td>\n",
       "      <td>01-01-2020</td>\n",
       "      <td>04-01-2020</td>\n",
       "      <td>9</td>\n",
       "      <td>67500</td>\n",
       "      <td>577125</td>\n",
       "      <td>12349</td>\n",
       "      <td>1000005</td>\n",
       "      <td>cash</td>\n",
       "      <td>700001</td>\n",
       "    </tr>\n",
       "    <tr>\n",
       "      <th>2</th>\n",
       "      <td>10000000003</td>\n",
       "      <td>buy</td>\n",
       "      <td>10000012</td>\n",
       "      <td>01-01-2020</td>\n",
       "      <td>02-01-2020</td>\n",
       "      <td>2</td>\n",
       "      <td>60750</td>\n",
       "      <td>119070</td>\n",
       "      <td>12349</td>\n",
       "      <td>1000002</td>\n",
       "      <td>netbanking</td>\n",
       "      <td>400001</td>\n",
       "    </tr>\n",
       "    <tr>\n",
       "      <th>3</th>\n",
       "      <td>10000000004</td>\n",
       "      <td>buy</td>\n",
       "      <td>10000012</td>\n",
       "      <td>01-01-2020</td>\n",
       "      <td>03-01-2020</td>\n",
       "      <td>8</td>\n",
       "      <td>736</td>\n",
       "      <td>5824</td>\n",
       "      <td>12347</td>\n",
       "      <td>1000010</td>\n",
       "      <td>cash</td>\n",
       "      <td>600001</td>\n",
       "    </tr>\n",
       "    <tr>\n",
       "      <th>4</th>\n",
       "      <td>10000000005</td>\n",
       "      <td>buy</td>\n",
       "      <td>10000008</td>\n",
       "      <td>01-01-2020</td>\n",
       "      <td>06-01-2020</td>\n",
       "      <td>1</td>\n",
       "      <td>60750</td>\n",
       "      <td>57105</td>\n",
       "      <td>12349</td>\n",
       "      <td>1000003</td>\n",
       "      <td>debit</td>\n",
       "      <td>500001</td>\n",
       "    </tr>\n",
       "  </tbody>\n",
       "</table>\n",
       "</div>"
      ],
      "text/plain": [
       "      order_id order_type   cust_id  order_date delivery_date  tot_units  \\\n",
       "0  10000000001        buy  10000009  01-01-2020    03-01-2020          2   \n",
       "1  10000000002        buy  10000004  01-01-2020    04-01-2020          9   \n",
       "2  10000000003        buy  10000012  01-01-2020    02-01-2020          2   \n",
       "3  10000000004        buy  10000012  01-01-2020    03-01-2020          8   \n",
       "4  10000000005        buy  10000008  01-01-2020    06-01-2020          1   \n",
       "\n",
       "   displayed_selling_price_per_unit  total_amount_paid  product_id  \\\n",
       "0                             73500             138180       12349   \n",
       "1                             67500             577125       12349   \n",
       "2                             60750             119070       12349   \n",
       "3                               736               5824       12347   \n",
       "4                             60750              57105       12349   \n",
       "\n",
       "   delivery_person_id payment_type  delivery_pincode  \n",
       "0             1000003         cash            500001  \n",
       "1             1000005         cash            700001  \n",
       "2             1000002   netbanking            400001  \n",
       "3             1000010         cash            600001  \n",
       "4             1000003        debit            500001  "
      ]
     },
     "execution_count": 78,
     "metadata": {},
     "output_type": "execute_result"
    }
   ],
   "source": [
    "#Importing order dataset\n",
    "order_dim = pd.read_excel(\"data/sales_database.xlsx\", \n",
    "                          sheet_name=\"order_dim\")\n",
    "order_dim.head()"
   ]
  },
  {
   "cell_type": "code",
   "execution_count": null,
   "id": "74c7c4d5-f151-4a07-9cfb-429774ae6e08",
   "metadata": {},
   "outputs": [
    {
     "name": "stdout",
     "output_type": "stream",
     "text": [
      "The sql extension is already loaded. To reload it, use:\n",
      "  %reload_ext sql\n"
     ]
    }
   ],
   "source": [
    "%load_ext sql\n",
    "%config SqlMagic.style = '_DEPRECATED_DEFAULT'"
   ]
  },
  {
   "cell_type": "code",
   "execution_count": 80,
   "id": "a3ab2ddd-c888-429e-88a9-6ed97ed751b7",
   "metadata": {},
   "outputs": [],
   "source": [
    "%sql sqlite:///data/exercise_sql.db3"
   ]
  },
  {
   "cell_type": "markdown",
   "id": "5d6aa053-c7e9-4f43-8e03-d0e18baa5df4",
   "metadata": {},
   "source": [
    "## Defina los esquemas de cada una de las tablas"
   ]
  },
  {
   "cell_type": "code",
   "execution_count": 107,
   "id": "4e636df3-3abe-4adc-a565-54b0560e648c",
   "metadata": {},
   "outputs": [
    {
     "name": "stdout",
     "output_type": "stream",
     "text": [
      "Done.\n",
      "Done.\n"
     ]
    },
    {
     "data": {
      "text/plain": [
       "[]"
      ]
     },
     "execution_count": 107,
     "metadata": {},
     "output_type": "execute_result"
    }
   ],
   "source": [
    "%%sql sqlite://\n",
    "DROP TABLE IF EXISTS customer_dim;\n",
    "CREATE TABLE customer_dim(\n",
    "    cust_id VARCHAR(50) NOT NULL UNIQUE,\n",
    "    first_name VARCHAR(50) NOT NULL,  \n",
    "    last_name VARCHAR(50) NOT NULL, \n",
    "    email VARCHAR(50) NOT NULL, \n",
    "    phone VARCHAR(50) NOT NULL, \n",
    "    primary_pincode VARCHAR(50)  NOT NULL,\n",
    "    gender VARCHAR(6),\n",
    "    dob DATETIME,\n",
    "    joining_date DATETIME, \n",
    "    PRIMARY KEY (cust_id)\n",
    ");"
   ]
  },
  {
   "cell_type": "markdown",
   "id": "47d9d7f6-49cd-4ced-aaca-f6a0ae8220b0",
   "metadata": {},
   "source": [
    "## Poble cada una de las tablas"
   ]
  },
  {
   "cell_type": "code",
   "execution_count": 108,
   "id": "87b2c148-66c2-4698-98b1-8645d8065ea4",
   "metadata": {},
   "outputs": [
    {
     "name": "stdout",
     "output_type": "stream",
     "text": [
      " * sqlite:///data/exercise_sql.db3\n",
      "1 rows affected.\n",
      " * sqlite:///data/exercise_sql.db3\n",
      "1 rows affected.\n",
      " * sqlite:///data/exercise_sql.db3\n",
      "1 rows affected.\n",
      " * sqlite:///data/exercise_sql.db3\n",
      "1 rows affected.\n",
      " * sqlite:///data/exercise_sql.db3\n",
      "1 rows affected.\n",
      " * sqlite:///data/exercise_sql.db3\n",
      "1 rows affected.\n",
      " * sqlite:///data/exercise_sql.db3\n",
      "1 rows affected.\n",
      " * sqlite:///data/exercise_sql.db3\n",
      "1 rows affected.\n",
      " * sqlite:///data/exercise_sql.db3\n",
      "1 rows affected.\n",
      " * sqlite:///data/exercise_sql.db3\n",
      "1 rows affected.\n",
      " * sqlite:///data/exercise_sql.db3\n",
      "1 rows affected.\n",
      " * sqlite:///data/exercise_sql.db3\n",
      "1 rows affected.\n",
      " * sqlite:///data/exercise_sql.db3\n",
      "1 rows affected.\n",
      " * sqlite:///data/exercise_sql.db3\n",
      "1 rows affected.\n"
     ]
    }
   ],
   "source": [
    "for row in range(len(customer_dim)):\n",
    "    cust_id = str(customer_dim.iloc[row,0])\n",
    "    first_name = customer_dim.iloc[row,1]\n",
    "    last_name = customer_dim.iloc[row,2]\n",
    "    email = customer_dim.iloc[row,3]\n",
    "    phone = str(customer_dim.iloc[row,4])\n",
    "    primary_pincode = str(customer_dim.iloc[row,5])\n",
    "    gender = customer_dim.iloc[row,6]\n",
    "    \n",
    "    try:\n",
    "        dob_item = datetime.strptime(customer_dim.iloc[row,7], '%d-%m-%Y')\n",
    "    except:\n",
    "        dob_item = None\n",
    "        \n",
    "    try:\n",
    "        joining_date = datetime.strptime(customer_dim.iloc[row,8], '%d-%m-%Y')\n",
    "    except:\n",
    "        joining_date = None\n",
    "    \n",
    "    \n",
    "    %sql INSERT INTO customer_dim VALUES (:cust_id, :first_name, :last_name, :email, :phone, :primary_pincode, :gender, :dob_item, :joining_date); "
   ]
  },
  {
   "cell_type": "code",
   "execution_count": 109,
   "id": "35a22986-5425-4bd6-895d-dab84b8a5189",
   "metadata": {},
   "outputs": [
    {
     "name": "stdout",
     "output_type": "stream",
     "text": [
      " * sqlite:///data/exercise_sql.db3\n",
      "Done.\n"
     ]
    },
    {
     "data": {
      "text/html": [
       "<table>\n",
       "    <tr>\n",
       "        <th>cust_id</th>\n",
       "        <th>first_name</th>\n",
       "        <th>last_name</th>\n",
       "        <th>email</th>\n",
       "        <th>phone</th>\n",
       "        <th>primary_pincode</th>\n",
       "        <th>gender</th>\n",
       "        <th>dob</th>\n",
       "        <th>joining_date</th>\n",
       "    </tr>\n",
       "    <tr>\n",
       "        <td>10000001</td>\n",
       "        <td>Rahul</td>\n",
       "        <td>Gupta</td>\n",
       "        <td>rahul.gupta@gmail.com</td>\n",
       "        <td>8960722319</td>\n",
       "        <td>110001</td>\n",
       "        <td>male</td>\n",
       "        <td>1977-12-02 00:00:00</td>\n",
       "        <td>2016-02-19 00:00:00</td>\n",
       "    </tr>\n",
       "    <tr>\n",
       "        <td>10000002</td>\n",
       "        <td>Abhinav</td>\n",
       "        <td>Sharma</td>\n",
       "        <td>abhinav.sharma@gmail.com</td>\n",
       "        <td>8857852863</td>\n",
       "        <td>400001</td>\n",
       "        <td>male</td>\n",
       "        <td>1995-09-20 00:00:00</td>\n",
       "        <td>2016-10-01 00:00:00</td>\n",
       "    </tr>\n",
       "    <tr>\n",
       "        <td>10000003</td>\n",
       "        <td>Anubhav</td>\n",
       "        <td>Patel</td>\n",
       "        <td>anubhav.patel@gmail.com</td>\n",
       "        <td>8492146048</td>\n",
       "        <td>560001</td>\n",
       "        <td>male</td>\n",
       "        <td>1986-12-26 00:00:00</td>\n",
       "        <td>2018-08-16 00:00:00</td>\n",
       "    </tr>\n",
       "    <tr>\n",
       "        <td>10000004</td>\n",
       "        <td>Neha</td>\n",
       "        <td>Verma</td>\n",
       "        <td>neha.verma@gmail.com</td>\n",
       "        <td>8631861914</td>\n",
       "        <td>600001</td>\n",
       "        <td>female</td>\n",
       "        <td>2002-01-20 00:00:00</td>\n",
       "        <td>2009-07-28 00:00:00</td>\n",
       "    </tr>\n",
       "    <tr>\n",
       "        <td>10000005</td>\n",
       "        <td>John</td>\n",
       "        <td>Bernard</td>\n",
       "        <td>john.bernard@gmail.com</td>\n",
       "        <td>8215391844</td>\n",
       "        <td>500001</td>\n",
       "        <td>male</td>\n",
       "        <td>None</td>\n",
       "        <td>2017-03-05 00:00:00</td>\n",
       "    </tr>\n",
       "    <tr>\n",
       "        <td>10000006</td>\n",
       "        <td>Muhammad</td>\n",
       "        <td>Ali</td>\n",
       "        <td>muhammad.ali@gmail.com</td>\n",
       "        <td>8317878411</td>\n",
       "        <td>700001</td>\n",
       "        <td>male</td>\n",
       "        <td>1981-09-29 00:00:00</td>\n",
       "        <td>2019-03-13 00:00:00</td>\n",
       "    </tr>\n",
       "    <tr>\n",
       "        <td>10000007</td>\n",
       "        <td>Ahmed</td>\n",
       "        <td>Khan</td>\n",
       "        <td>ahmed.khan@gmail.com</td>\n",
       "        <td>8279227825</td>\n",
       "        <td>110001</td>\n",
       "        <td>male</td>\n",
       "        <td>1999-01-14 00:00:00</td>\n",
       "        <td>2018-07-18 00:00:00</td>\n",
       "    </tr>\n",
       "    <tr>\n",
       "        <td>10000008</td>\n",
       "        <td>Paras</td>\n",
       "        <td>Rana</td>\n",
       "        <td>paras.rana@gmail.com</td>\n",
       "        <td>8134672373</td>\n",
       "        <td>400001</td>\n",
       "        <td>male</td>\n",
       "        <td>1985-09-20 00:00:00</td>\n",
       "        <td>2015-02-23 00:00:00</td>\n",
       "    </tr>\n",
       "    <tr>\n",
       "        <td>10000009</td>\n",
       "        <td>Priyanka</td>\n",
       "        <td>Reddy</td>\n",
       "        <td>priyanka.reddy@yahoo.com</td>\n",
       "        <td>8156273277</td>\n",
       "        <td>560001</td>\n",
       "        <td>female</td>\n",
       "        <td>1992-08-26 00:00:00</td>\n",
       "        <td>2010-11-24 00:00:00</td>\n",
       "    </tr>\n",
       "    <tr>\n",
       "        <td>10000010</td>\n",
       "        <td>Amit</td>\n",
       "        <td>Vikram</td>\n",
       "        <td>amit.vikram@yahoo.com</td>\n",
       "        <td>8204474821</td>\n",
       "        <td>600001</td>\n",
       "        <td>male</td>\n",
       "        <td>1996-04-03 00:00:00</td>\n",
       "        <td>2013-08-25 00:00:00</td>\n",
       "    </tr>\n",
       "    <tr>\n",
       "        <td>10000011</td>\n",
       "        <td>Sandhya</td>\n",
       "        <td>Anwar</td>\n",
       "        <td>sandhya.anwar@outlook.com</td>\n",
       "        <td>8700166174</td>\n",
       "        <td>500001</td>\n",
       "        <td>female</td>\n",
       "        <td>2002-04-11 00:00:00</td>\n",
       "        <td>2009-03-08 00:00:00</td>\n",
       "    </tr>\n",
       "    <tr>\n",
       "        <td>10000012</td>\n",
       "        <td>Robert</td>\n",
       "        <td>Smith</td>\n",
       "        <td>robert.smith@outlook.com</td>\n",
       "        <td>8933123477</td>\n",
       "        <td>700001</td>\n",
       "        <td>male</td>\n",
       "        <td>None</td>\n",
       "        <td>2017-11-16 00:00:00</td>\n",
       "    </tr>\n",
       "    <tr>\n",
       "        <td>10000013</td>\n",
       "        <td>Christina</td>\n",
       "        <td>Smith</td>\n",
       "        <td>christina.smith@outlook.com</td>\n",
       "        <td>8861486813</td>\n",
       "        <td>700001</td>\n",
       "        <td>female</td>\n",
       "        <td>1980-04-16 00:00:00</td>\n",
       "        <td>2009-11-30 00:00:00</td>\n",
       "    </tr>\n",
       "    <tr>\n",
       "        <td>10000014</td>\n",
       "        <td>Amanpreet</td>\n",
       "        <td>Singh</td>\n",
       "        <td>amanpreet.singh@yahoo.com</td>\n",
       "        <td>8153506539</td>\n",
       "        <td>110001</td>\n",
       "        <td>male</td>\n",
       "        <td>1980-03-10 00:00:00</td>\n",
       "        <td>2008-08-29 00:00:00</td>\n",
       "    </tr>\n",
       "</table>"
      ],
      "text/plain": [
       "[('10000001', 'Rahul', 'Gupta', 'rahul.gupta@gmail.com', '8960722319', '110001', 'male', '1977-12-02 00:00:00', '2016-02-19 00:00:00'),\n",
       " ('10000002', 'Abhinav', 'Sharma', 'abhinav.sharma@gmail.com', '8857852863', '400001', 'male', '1995-09-20 00:00:00', '2016-10-01 00:00:00'),\n",
       " ('10000003', 'Anubhav', 'Patel', 'anubhav.patel@gmail.com', '8492146048', '560001', 'male', '1986-12-26 00:00:00', '2018-08-16 00:00:00'),\n",
       " ('10000004', 'Neha', 'Verma', 'neha.verma@gmail.com', '8631861914', '600001', 'female', '2002-01-20 00:00:00', '2009-07-28 00:00:00'),\n",
       " ('10000005', 'John', 'Bernard', 'john.bernard@gmail.com', '8215391844', '500001', 'male', None, '2017-03-05 00:00:00'),\n",
       " ('10000006', 'Muhammad', 'Ali', 'muhammad.ali@gmail.com', '8317878411', '700001', 'male', '1981-09-29 00:00:00', '2019-03-13 00:00:00'),\n",
       " ('10000007', 'Ahmed', 'Khan', 'ahmed.khan@gmail.com', '8279227825', '110001', 'male', '1999-01-14 00:00:00', '2018-07-18 00:00:00'),\n",
       " ('10000008', 'Paras', 'Rana', 'paras.rana@gmail.com', '8134672373', '400001', 'male', '1985-09-20 00:00:00', '2015-02-23 00:00:00'),\n",
       " ('10000009', 'Priyanka', 'Reddy', 'priyanka.reddy@yahoo.com', '8156273277', '560001', 'female', '1992-08-26 00:00:00', '2010-11-24 00:00:00'),\n",
       " ('10000010', 'Amit', 'Vikram', 'amit.vikram@yahoo.com', '8204474821', '600001', 'male', '1996-04-03 00:00:00', '2013-08-25 00:00:00'),\n",
       " ('10000011', 'Sandhya', 'Anwar', 'sandhya.anwar@outlook.com', '8700166174', '500001', 'female', '2002-04-11 00:00:00', '2009-03-08 00:00:00'),\n",
       " ('10000012', 'Robert', 'Smith', 'robert.smith@outlook.com', '8933123477', '700001', 'male', None, '2017-11-16 00:00:00'),\n",
       " ('10000013', 'Christina', 'Smith', 'christina.smith@outlook.com', '8861486813', '700001', 'female', '1980-04-16 00:00:00', '2009-11-30 00:00:00'),\n",
       " ('10000014', 'Amanpreet', 'Singh', 'amanpreet.singh@yahoo.com', '8153506539', '110001', 'male', '1980-03-10 00:00:00', '2008-08-29 00:00:00')]"
      ]
     },
     "execution_count": 109,
     "metadata": {},
     "output_type": "execute_result"
    }
   ],
   "source": [
    "%sql SELECT * FROM customer_dim"
   ]
  },
  {
   "cell_type": "markdown",
   "id": "65ec4e46-e165-499a-b577-08f5be5bbedd",
   "metadata": {},
   "source": [
    "## Preguntas sobre SQL básico"
   ]
  },
  {
   "cell_type": "markdown",
   "id": "d974f0d8-0a0c-410a-bd8e-fd75f4821398",
   "metadata": {},
   "source": [
    "### Q0.¿Cuántos clientes son hombres y cuántos son mujeres?"
   ]
  },
  {
   "cell_type": "code",
   "execution_count": 110,
   "id": "3ca1cb75-5636-4b41-878d-39f971550924",
   "metadata": {},
   "outputs": [
    {
     "name": "stdout",
     "output_type": "stream",
     "text": [
      " * sqlite:///data/exercise_sql.db3\n",
      "Done.\n"
     ]
    },
    {
     "data": {
      "text/html": [
       "<table>\n",
       "    <tr>\n",
       "        <th>gender</th>\n",
       "        <th>cust_cnt</th>\n",
       "    </tr>\n",
       "    <tr>\n",
       "        <td>female</td>\n",
       "        <td>4</td>\n",
       "    </tr>\n",
       "    <tr>\n",
       "        <td>male</td>\n",
       "        <td>10</td>\n",
       "    </tr>\n",
       "</table>"
      ],
      "text/plain": [
       "[('female', 4), ('male', 10)]"
      ]
     },
     "execution_count": 110,
     "metadata": {},
     "output_type": "execute_result"
    }
   ],
   "source": [
    "%%sql\n",
    "SELECT \n",
    "    c.gender,\n",
    "    COUNT(c.cust_id) AS cust_cnt\n",
    "FROM customer_dim AS c\n",
    "GROUP BY c.gender\n"
   ]
  },
  {
   "cell_type": "markdown",
   "id": "876170f2-6157-4c78-8bba-900e38125f72",
   "metadata": {},
   "source": [
    "### Q1. ¿Cuántos clientes no disponen de información sobre la fecha de nacimiento?"
   ]
  },
  {
   "cell_type": "code",
   "execution_count": null,
   "id": "b03ce995-c0fe-4770-aebb-45ba5b92c3d0",
   "metadata": {},
   "outputs": [],
   "source": []
  },
  {
   "cell_type": "markdown",
   "id": "370f3aa4-38e7-42dc-8337-db13ac1c2330",
   "metadata": {},
   "source": [
    "### Q2. ¿Cuántos clientes hay en cada combinación de código postal y género?"
   ]
  },
  {
   "cell_type": "code",
   "execution_count": null,
   "id": "7496e061-700b-4242-a532-9e6c4c69bcb8",
   "metadata": {},
   "outputs": [],
   "source": []
  },
  {
   "cell_type": "markdown",
   "id": "7eb3b6c8-9213-47b2-b4a7-525d406d0ff1",
   "metadata": {},
   "source": [
    "### Q3. Muestre el nombre del producto y el MRP para los productos que tienen más de 50000 MRP"
   ]
  },
  {
   "cell_type": "code",
   "execution_count": null,
   "id": "3c5e9828-f41e-4d2d-8c9f-ba071863188d",
   "metadata": {},
   "outputs": [],
   "source": []
  },
  {
   "cell_type": "markdown",
   "id": "cb020b45-0e1e-49ba-ab0a-ec066d9441b7",
   "metadata": {},
   "source": [
    "### Q5. Para cada código Pin, imprima el recuento de órdenes, la suma del importe total pagado, el importe medio pagado, el importe máximo pagado, el importe mínimo pagado para las transacciones que se pagaron en \"efectivo\". Tome sólo los tipos de órdenes de \"compra\"."
   ]
  },
  {
   "cell_type": "code",
   "execution_count": null,
   "id": "a0b73f1b-d38d-4f49-abe6-911b5fc8366b",
   "metadata": {},
   "outputs": [],
   "source": []
  },
  {
   "cell_type": "markdown",
   "id": "0e1a26c3-6e38-474b-87d2-39adc3af7ec4",
   "metadata": {},
   "source": [
    "### Q6. Para cada delivery_person_id, imprima el recuento de pedidos y el importe total pagado para product_id = 12350 o 12348 y unidades totales > 8. Ordene la salida por el importe total pagado en orden descendente. Tome sólo los tipos de órdenes de \"compra\"."
   ]
  },
  {
   "cell_type": "code",
   "execution_count": null,
   "id": "82ea4567-95f2-407d-bd2c-9b13779ad965",
   "metadata": {},
   "outputs": [],
   "source": []
  },
  {
   "cell_type": "markdown",
   "id": "704634ec-d69a-4362-9c75-2a9f4d7bbbcd",
   "metadata": {},
   "source": [
    "### Q7. Imprima los nombres completos (nombre más apellido) de los clientes que tienen correo electrónico en \"gmail.com\"(investigar comando ***LIKE*** https://www.sqlitetutorial.net/sqlite-like/)"
   ]
  },
  {
   "cell_type": "code",
   "execution_count": null,
   "id": "7396192b-3d04-44c6-ac3c-31ba49bd393f",
   "metadata": {},
   "outputs": [],
   "source": []
  },
  {
   "cell_type": "markdown",
   "id": "d5ec8c82-4f76-4635-a877-16cac92a4412",
   "metadata": {},
   "source": [
    "### Q8. ¿Cuántas órdenes tenían #unidades entre 1-3, 4-6 y 7+? Tome sólo los tipos de órdenes de \"compra\"."
   ]
  },
  {
   "cell_type": "code",
   "execution_count": null,
   "id": "62b86f17-a68a-4d3f-856c-43d97ebd550a",
   "metadata": {},
   "outputs": [],
   "source": []
  },
  {
   "cell_type": "markdown",
   "id": "72a8596e-c81a-4fb9-8002-51f947d99c3c",
   "metadata": {},
   "source": [
    "### Q9. ¿Qué código postal tiene un importe medio pagado superior a 150.000? Tome sólo los tipos de órdenes de \"compra\"."
   ]
  },
  {
   "cell_type": "code",
   "execution_count": null,
   "id": "5915f140-0510-4941-ae85-a68def7083fd",
   "metadata": {},
   "outputs": [],
   "source": []
  },
  {
   "cell_type": "markdown",
   "id": "877d8b1a-2480-4ae9-86f4-e1e8ce204231",
   "metadata": {},
   "source": [
    "### Q10. Cree las siguientes columnas a partir de los datos de order_dim -\n",
    "\n",
    "- Día del pedido (order_day)\n",
    "- Mes del pedido (order_month)\n",
    "- Año del pedido (order_year)"
   ]
  },
  {
   "cell_type": "code",
   "execution_count": null,
   "id": "556b2054-96b6-4743-9aff-33a5f084e0b4",
   "metadata": {},
   "outputs": [],
   "source": []
  },
  {
   "cell_type": "markdown",
   "id": "a8163a26-ea1e-4906-81c4-77d78d6803bd",
   "metadata": {},
   "source": [
    "### Q11. ¿Cuántos pedidos totales hubo en cada mes y cuántos de ellos fueron devueltos? Añade también una columna para la tasa de devolución.\n",
    "\n",
    "tasa de devolución = (100.0 * total de órdenes de devolución) / total de órdenes de compra\n",
    "\n",
    "Sugerencia: Tendrá que combinar SUM() con CASE WHEN"
   ]
  },
  {
   "cell_type": "code",
   "execution_count": null,
   "id": "ef3a17ba-0254-4a52-8aad-fa5eaef11273",
   "metadata": {},
   "outputs": [],
   "source": []
  },
  {
   "cell_type": "markdown",
   "id": "72f49901-d91d-4e16-b477-a7f5736bc077",
   "metadata": {},
   "source": [
    "## Preguntas sobre SQL Joins"
   ]
  },
  {
   "cell_type": "markdown",
   "id": "a2eb2495-fb3a-4767-8cc2-7bc2129cdc95",
   "metadata": {},
   "source": [
    "### Q12. ¿Cuántas unidades se han vendido de cada marca? Obtén también el total de unidades devueltas de cada marca."
   ]
  },
  {
   "cell_type": "code",
   "execution_count": null,
   "id": "7445c2d3-fa30-4872-8c83-600619e8b747",
   "metadata": {},
   "outputs": [],
   "source": []
  },
  {
   "cell_type": "markdown",
   "id": "e6082622-7231-4d90-8ca4-4c4149358d3e",
   "metadata": {},
   "source": [
    "### Q13. ¿Cuántos clientes y repartidores distintos hay en cada estado?"
   ]
  },
  {
   "cell_type": "code",
   "execution_count": null,
   "id": "923f66b6-98c0-4699-9a5d-caa834f023bb",
   "metadata": {},
   "outputs": [],
   "source": []
  },
  {
   "cell_type": "markdown",
   "id": "860737ff-4ac6-4b40-aa8a-024081edc253",
   "metadata": {},
   "source": [
    "### Q14. Para cada cliente, imprima cuántas unidades totales se pidieron, cuántas unidades se pidieron desde su primary_pincode y cuántas se pidieron no desde el primary_pincode. Calcule también el porcentaje de unidades totales que se pidieron desde primary_pincode (recuerde multiplicar el numerador por 100,0). Ordene por la columna de porcentaje en orden descendente."
   ]
  },
  {
   "cell_type": "code",
   "execution_count": null,
   "id": "e0b6b025-7c27-48ba-9a5d-84ac2b369800",
   "metadata": {},
   "outputs": [],
   "source": []
  },
  {
   "cell_type": "markdown",
   "id": "2eb91d2d-a685-4471-ba56-3c420983058a",
   "metadata": {},
   "source": [
    "### Q15. Para cada nombre de producto, imprima la suma del número de unidades, el importe total pagado, el precio de venta total mostrado, el precio mínimo total de estas unidades y, finalmente, el descuento neto del precio de venta (es decir, 100,0 - 100,0 importe total pagado / precio de venta total mostrado) Y el descuento neto del precio mínimo (es decir, 100,0 - 100,0 importe total pagado / precio mínimo total)\n"
   ]
  },
  {
   "cell_type": "code",
   "execution_count": null,
   "id": "4166059f-a6e2-40cf-ae9b-63c6a7e6dfb7",
   "metadata": {},
   "outputs": [],
   "source": []
  },
  {
   "cell_type": "markdown",
   "id": "adb86d13-1f27-499d-b92e-90644e8f19af",
   "metadata": {},
   "source": [
    "### Q16. Para cada order_id (excluyendo las devoluciones), obtenga el nombre del producto y calcule el porcentaje de descuento del precio de venta. Ordene por el mayor descuento e imprima sólo las filas en las que el porcentaje de descuento sea superior al 10,10%."
   ]
  },
  {
   "cell_type": "code",
   "execution_count": null,
   "id": "fe223a65-142a-4cdb-a69c-f68ef995a06e",
   "metadata": {},
   "outputs": [],
   "source": []
  },
  {
   "cell_type": "markdown",
   "id": "af3ab726-e78b-4f7f-9359-db5f9107b3fd",
   "metadata": {},
   "source": [
    "### Q17. Utilizando el coste de aprovisionamiento por unidad en product_dim, encuentra qué categoría de producto ha obtenido el mayor beneficio tanto en cantidad absoluta como en porcentaje\n",
    "\n",
    "Beneficio absoluto = Cantidad total vendida - Coste total de aprovisionamiento\n",
    "\n",
    "Beneficio porcentual = 100.0 * Cantidad total vendida / Coste total de aprovisionamiento - 100.0"
   ]
  },
  {
   "cell_type": "code",
   "execution_count": null,
   "id": "458ec9d2-ae44-454d-85c7-539a82464dd1",
   "metadata": {},
   "outputs": [],
   "source": []
  },
  {
   "cell_type": "markdown",
   "id": "35265e6c-47c1-40f7-a6e7-956040aa4132",
   "metadata": {},
   "source": [
    "### Q18. Para cada repartidor (utilice su nombre), imprima el número total de pedidos (excluyendo las devoluciones) por mes en columnas separadas, es decir, debe haber una fila para cada delivery_person_id y 12 columnas para cada mes del año"
   ]
  },
  {
   "cell_type": "code",
   "execution_count": null,
   "id": "74f6fe23-0802-4eb0-8648-489f3813d334",
   "metadata": {},
   "outputs": [],
   "source": []
  },
  {
   "cell_type": "markdown",
   "id": "a121372d-61e2-4aff-ae95-aa9686efffa2",
   "metadata": {},
   "source": [
    "### Q19. For each gender - male and female - find the absolute and percentage profit (like in Q16) by product name."
   ]
  },
  {
   "cell_type": "code",
   "execution_count": null,
   "id": "32d08e23-2c9b-489a-ad4c-0a26c5eb76a9",
   "metadata": {},
   "outputs": [],
   "source": []
  },
  {
   "cell_type": "markdown",
   "id": "9ec31b17-b138-41ae-aab5-0701a8fd6557",
   "metadata": {},
   "source": [
    "### Q20. Generally the more numbers of units you buy, the more discount seller will give you. For 'Dell AX420' is there a relationship between number of units ordered and average discount from selling price? Take only 'buy' order types"
   ]
  },
  {
   "cell_type": "code",
   "execution_count": null,
   "id": "c8ff5d61-0136-404e-a4a8-dae5f1a4e46a",
   "metadata": {},
   "outputs": [],
   "source": []
  }
 ],
 "metadata": {
  "kernelspec": {
   "display_name": "Python 3 (ipykernel)",
   "language": "python",
   "name": "python3"
  },
  "language_info": {
   "codemirror_mode": {
    "name": "ipython",
    "version": 3
   },
   "file_extension": ".py",
   "mimetype": "text/x-python",
   "name": "python",
   "nbconvert_exporter": "python",
   "pygments_lexer": "ipython3",
   "version": "3.10.4"
  }
 },
 "nbformat": 4,
 "nbformat_minor": 5
}
